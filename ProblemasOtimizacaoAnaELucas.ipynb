{
 "cells": [
  {
   "cell_type": "markdown",
   "metadata": {},
   "source": [
    "### Nome dos integrantes: Ana Gabriela Gomes de Almeida Ferreira e Lucas Cunha de Souza\n",
    "### Disciplina: Inteligência Artificial\n",
    "### Professor: Sérgio Nery Simões\n",
    "\n",
    "# Solução de Problemas de Otimização\n",
    "\n",
    "Este documento tem como objetivo apresentar, discutir e comparar o desempenho de algoritmos para o Problema das 8 rainhas (8-queens Problem). Os algoritmos que serão comparados são:\n",
    "\n",
    "- [HC-R] – Hill-Climbing with Restart\n",
    "- [SA] – Simulated Annealing.\n",
    "- [GA] – Genetic Algorithm."
   ]
  },
  {
   "cell_type": "markdown",
   "metadata": {},
   "source": [
    "Devemos importar as bibliotecas utilizadas para as funções auxiliares."
   ]
  },
  {
   "cell_type": "code",
   "execution_count": 2,
   "metadata": {},
   "outputs": [],
   "source": [
    "import random\n",
    "import math\n",
    "import numpy as np\n",
    "\n",
    "import matplotlib.pyplot as plt\n",
    "from IPython.display import clear_output"
   ]
  },
  {
   "cell_type": "markdown",
   "metadata": {},
   "source": [
    "Após importarmos as bibliotecas, vamos começar a apresentar as funções auxiliares genéricas aos algoritmos."
   ]
  },
  {
   "cell_type": "code",
   "execution_count": 3,
   "metadata": {},
   "outputs": [],
   "source": [
    "# Cria uma solucao inicial com as rainhas em um ordem aleatoria\n",
    "def solucao_aleatoria():\n",
    "    return random.sample(range(1,9), 8)"
   ]
  },
  {
   "cell_type": "code",
   "execution_count": 4,
   "metadata": {},
   "outputs": [],
   "source": [
    "# Função que recebe um Vetor-Tabuleiro e retorna o \n",
    "# número de pares de rainhas se atacando mutuamente nas linhas.\n",
    "def conta_ataques_linhas(VT):\n",
    "\n",
    "    ataques = 0\n",
    "    N = len(VT)\n",
    "    for col1 in range(N):\n",
    "        lin1 = VT[col1]\n",
    "        for col2 in range(col1+1, N):\n",
    "            lin2 = VT[col2]\n",
    "            if lin1==lin2:\n",
    "                ataques +=1\n",
    "\n",
    "    return ataques"
   ]
  },
  {
   "cell_type": "code",
   "execution_count": 5,
   "metadata": {},
   "outputs": [],
   "source": [
    "# Função que recebe um Vetor-Tabuleiro e retorna o número de pares \n",
    "# de rainhas se atacando mutuamente nas diagonais.\n",
    "def conta_ataques_diagonais(VT):\n",
    "    \n",
    "    ataques = 0\n",
    "    N = len(VT)\n",
    "\n",
    "    for col1 in range(N):\n",
    "        lin1 = VT[col1]\n",
    "        for col2 in range(col1+1, N):\n",
    "            lin2 = VT[col2]\n",
    "\n",
    "            # diferenças entre as linhas e colunas\n",
    "            d1 = lin1-col1\n",
    "            d2 = lin2-col2\n",
    "\n",
    "            # somas das linhas e colunas\n",
    "            s1 = lin1+col1\n",
    "            s2 = lin2+col2\n",
    "\n",
    "            # condições para ataques nas diagonais\n",
    "            if d1==d2 or s1==s2:\n",
    "                ataques +=1\n",
    "\n",
    "    return ataques"
   ]
  },
  {
   "cell_type": "code",
   "execution_count": 6,
   "metadata": {},
   "outputs": [],
   "source": [
    "# Função que recebe um Vetor-Tabuleiro e retorna o número de \n",
    "# pares de rainhas se atacando mutuamente nas linhas e diagonais.\n",
    "\n",
    "# função-objetivo o número de pares de rainhas se atacando\n",
    "def conta_ataques(VT):\n",
    "    ataques  = conta_ataques_linhas(VT)\n",
    "    ataques += conta_ataques_diagonais(VT)\n",
    "\n",
    "    return ataques"
   ]
  },
  {
   "cell_type": "code",
   "execution_count": 7,
   "metadata": {},
   "outputs": [],
   "source": [
    "# Gera todos os vizinhos possíveis, variando uma rainha de cada vez.\n",
    "def gera_vizinhos(VT):\n",
    "\n",
    "    N = len(VT)\n",
    "    for col in range(N):\n",
    "        for lin in range(N):\n",
    "            # se nao existe rainha naquela linha,\n",
    "            # entao gera estado vizinho.\n",
    "            linha = lin+1\n",
    "            if linha != VT[col]:\n",
    "                vizinho   = VT.copy()\n",
    "                vizinho[col] = linha\n",
    "\n",
    "                yield vizinho"
   ]
  },
  {
   "cell_type": "code",
   "execution_count": 8,
   "metadata": {},
   "outputs": [],
   "source": [
    "def gera_tuplas_custos(Populacao):\n",
    "    '''\n",
    "    Gera tuplas com os custos de todos os individuos da populacao.\n",
    "    '''\n",
    "    TuplasCustos = []\n",
    "    for individuo in Populacao:\n",
    "        ataques = conta_ataques(individuo)\n",
    "\n",
    "        TuplasCustos += [(ataques, individuo)]\n",
    "\n",
    "    return TuplasCustos\n"
   ]
  },
  {
   "cell_type": "code",
   "execution_count": 9,
   "metadata": {},
   "outputs": [],
   "source": [
    "# Seleciona melhor vizinho\n",
    "def obtem_melhor_vizinho(tabuleiro, solucao_inicial):\n",
    "    #solucao aleatoria que foi criada\n",
    "    \n",
    "    #melhor_custo = conta_ataques(solucao_inicial) \n",
    "    #melhor_vizinho = solucao_inicial\n",
    "    #populacao = gera_vizinhos(solucao_inicial)\n",
    "    \n",
    "    custo1 = conta_ataques(tabuleiro)\n",
    "    custo2 = conta_ataques(solucao_inicial)\n",
    "    \n",
    "    if custo1 < custo2:\n",
    "        melhor_custo = custo1\n",
    "        melhor_vizinho = tabuleiro\n",
    "    else:\n",
    "        melhor_custo = custo2\n",
    "        melhor_vizinho = solucao_inicial        \n",
    "    \n",
    "    populacao = gera_vizinhos(melhor_vizinho)\n",
    "    tuplas = gera_tuplas_custos(populacao)\n",
    "    vizinhos = sorted(tuplas, key=lambda k: k[0])\n",
    "\n",
    "    for custo, individuo in vizinhos:\n",
    "        if custo < melhor_custo:\n",
    "            melhor_custo = custo\n",
    "            melhor_vizinho = individuo\n",
    "\n",
    "    return melhor_vizinho, melhor_custo"
   ]
  },
  {
   "cell_type": "markdown",
   "metadata": {},
   "source": [
    "Após criarmos as funções auxiliares, vamos começar a apresentar as funções de plotagem utilizadas."
   ]
  },
  {
   "cell_type": "markdown",
   "metadata": {},
   "source": [
    "- Plotagem Genérica:"
   ]
  },
  {
   "cell_type": "code",
   "execution_count": 10,
   "metadata": {},
   "outputs": [],
   "source": [
    "# Plota o tabuleiro\n",
    "\n",
    "def plota_tabuleiro(positions):\n",
    "    fig, ax = plt.subplots()\n",
    "    \n",
    "    ax.set_xlim(0, 8)\n",
    "    ax.set_ylim(0, 8)\n",
    "    ax.set_xticks(range(9))\n",
    "    ax.set_yticks(range(9))\n",
    "    ax.grid(True)\n",
    "    \n",
    "    for i in range(8):\n",
    "        for j in range(8):\n",
    "            if (i + j) % 2 == 0:\n",
    "                ax.add_patch(plt.Rectangle((i, j), 1, 1, fill=True, color='lightgrey'))\n",
    "            else:\n",
    "                ax.add_patch(plt.Rectangle((i, j), 1, 1, fill=True, color='white'))\n",
    "    \n",
    "    for col, row in enumerate(positions):\n",
    "        ax.text(col + 0.5, row - 0.5, '♛', fontsize=30, ha='center', va='center', color='black')\n",
    "    \n",
    "    ax.invert_yaxis()\n",
    "    ax.xaxis.tick_top()\n",
    "    \n",
    "    plt.show()"
   ]
  },
  {
   "cell_type": "markdown",
   "metadata": {},
   "source": [
    "- Plotagem para o algoritmo SA:"
   ]
  },
  {
   "cell_type": "code",
   "execution_count": 11,
   "metadata": {},
   "outputs": [],
   "source": [
    "# Plota o gráfico de probabilidade aceitação\n",
    "\n",
    "def plot_acceptance_prob(iteration_list, accept_p_list):\n",
    "    fig, ax = plt.subplots()\n",
    "    x = iteration_list\n",
    "    y = accept_p_list\n",
    "\n",
    "    # Personalização do gráfico\n",
    "    ax.set_xlabel('Iterações')\n",
    "    ax.set_ylabel('Probabilidade')\n",
    "    ax.set_title('Probabilidade de Aceitação')\n",
    "\n",
    "    ax.set_ylim([0, 1.05])\n",
    "\n",
    "    # Criar uma nova lista de cores com base nos valores de y\n",
    "    xc, yc, colors = zip(*[(xi, yi, 'b') if yi==1.0 else (xi, yi, 'r') \\\n",
    "                           for xi, yi in enumerate(y)])\n",
    "\n",
    "    ax.scatter(xc, yc, c=colors, s=2)"
   ]
  },
  {
   "cell_type": "code",
   "execution_count": 12,
   "metadata": {},
   "outputs": [],
   "source": [
    "# Plota o gráfico de temperatura\n",
    "\n",
    "def plot_temperature(iteration_list, temperat_list):\n",
    "    fig, ax = plt.subplots()\n",
    "\n",
    "    x = iteration_list\n",
    "    y = temperat_list\n",
    "\n",
    "    # Personalização do gráfico\n",
    "    ax.set_xlabel('Iterações')\n",
    "    ax.set_ylabel('Temperatura')\n",
    "    ax.set_title('Decaimento da Temperatura')\n",
    "\n",
    "    ax.plot(x,y)"
   ]
  },
  {
   "cell_type": "code",
   "execution_count": 13,
   "metadata": {},
   "outputs": [],
   "source": [
    "def plot_custos_sa(lista_iteracoes, lista_conflitos, lista_melhor_conflitos, ax):\n",
    "        \n",
    "    x = lista_iteracoes\n",
    "    y1 = lista_conflitos\n",
    "    y2 = lista_melhor_conflitos\n",
    "    \n",
    "    ax.plot(x,y1, label='Atual')\n",
    "    ax.plot(x,y2, label='Melhor')\n",
    "    ax.legend()\n",
    "\n",
    "    # Adicionar título e labels aos eixos\n",
    "    ax.set_xlabel('Iterações')\n",
    "    ax.set_ylabel('Qnt de Ataques (Custos)')\n",
    "    ax.set_title('Gráfico de Conflitos por Iteração')\n",
    "\n",
    "    ax.set_xlim([0, len(x)-1])\n",
    "    \n",
    "    plt.show()"
   ]
  },
  {
   "cell_type": "code",
   "execution_count": 14,
   "metadata": {},
   "outputs": [],
   "source": [
    "# Atualiza os gráficos\n",
    "\n",
    "def plot_axes_figure_sa(lista_iteracoes, lista_aceitacao_prob, lista_temperatura, tabuleiro, lista_conflitos, lista_melhor_conflitos):\n",
    "\n",
    "    x = lista_iteracoes\n",
    "    y1 = lista_conflitos\n",
    "    y2 = lista_melhor_conflitos\n",
    "    y3 = lista_aceitacao_prob\n",
    "    y4 = lista_temperatura\n",
    "\n",
    "    clear_output(wait=True)\n",
    "\n",
    "    fig, ((ax1)) = plt.subplots(1, 1, figsize=(6,6))\n",
    "\n",
    "    plot_custos_sa(x, y1, y2, ax1)\n",
    "    plot_acceptance_prob(x, y3)\n",
    "    plot_temperature(x, y4)\n",
    "    plota_tabuleiro(tabuleiro)\n",
    "\n",
    "    # Ajusta o espaçamento entre os subgráficos\n",
    "    fig.tight_layout()\n",
    "\n",
    "    plt.pause(0.001)"
   ]
  },
  {
   "cell_type": "markdown",
   "metadata": {},
   "source": [
    "- Plotagem para o algoritmo HC:"
   ]
  },
  {
   "cell_type": "code",
   "execution_count": 15,
   "metadata": {},
   "outputs": [],
   "source": [
    "# Atualiza os gráficos de custos\n",
    "\n",
    "def plot_custos(iteration_list, lista_conflitos, ax):\n",
    "    \n",
    "    x = iteration_list\n",
    "    y1 = lista_conflitos\n",
    "    \n",
    "    ax.plot(x,y1, label='Atual')\n",
    "    ax.legend()\n",
    "\n",
    "    # Adicionar título e labels aos eixos\n",
    "    ax.set_xlabel('Iterações')\n",
    "    ax.set_ylabel('Qnt de Ataques (Custos)')\n",
    "    ax.set_title('Gráfico de Conflitos por Iteração')\n",
    "\n",
    "    ax.set_xlim([0, len(x)-1])\n",
    "    \n",
    "    plt.show()\n",
    "    "
   ]
  },
  {
   "cell_type": "code",
   "execution_count": 16,
   "metadata": {},
   "outputs": [],
   "source": [
    "# Atualiza os gráficos\n",
    "\n",
    "def plot_axes_figure_hc(iteration_list, lista_conflitos, tabuleiro):\n",
    "    \n",
    "    x = iteration_list    \n",
    "    y1 = lista_conflitos\n",
    "    \n",
    "    clear_output(wait=True)\n",
    "\n",
    "    fig, (ax1) = plt.subplots(1, 1, figsize=(6,4))\n",
    "    plot_custos(x, y1, ax1)\n",
    "    plota_tabuleiro(tabuleiro)\n",
    "    \n",
    "    # Ajusta o espaçamento entre os subgráficos\n",
    "    fig.tight_layout()\n",
    "    \n",
    "    plt.pause(0.001)\n",
    "    \n",
    "    plt.show()\n"
   ]
  },
  {
   "cell_type": "markdown",
   "metadata": {},
   "source": [
    "## Algoritmo 01: Hill Climb Restart"
   ]
  },
  {
   "cell_type": "code",
   "execution_count": 17,
   "metadata": {},
   "outputs": [],
   "source": [
    "# HILL-CLIMBING COM RESTART\n",
    "def hill_climbing_restart(tabuleiro):\n",
    "    \n",
    "    #print(\"Tabuleiro recebido:\", tabuleiro)\n",
    "    lista_tabuleiro = []\n",
    "    lista_iteracoes = []\n",
    "    lista_conflitos = []\n",
    "    \n",
    "    # Parâmetro: 30 restarts\n",
    "    for iteracao in range(30):\n",
    "        # solucao inicial\n",
    "        solucao_inicial = solucao_aleatoria()\n",
    "\n",
    "        # melhor solucao ate o momento\n",
    "        solucao_melhor, custo_melhor = obtem_melhor_vizinho(tabuleiro, solucao_inicial)\n",
    "        \n",
    "        while True:\n",
    "            # tenta obter um candidato melhor\n",
    "            candidato_atual, custo_atual = obtem_melhor_vizinho(tabuleiro, solucao_melhor)\n",
    "            # print(custo_melhor, custo_atual)\n",
    "            if custo_atual < custo_melhor:\n",
    "                custo_melhor = custo_atual\n",
    "                solucao_melhor = candidato_atual\n",
    "            else:\n",
    "                break   # custo nao melhorou, entao sai do while\n",
    "        \n",
    "        lista_tabuleiro += [candidato_atual]\n",
    "        lista_iteracoes += [iteracao]\n",
    "        lista_conflitos  += [custo_atual]\n",
    "        \n",
    "        print(f\"Iteração {iteracao}, melhor conflito: {custo_melhor}\")\n",
    "        plot_axes_figure_hc(lista_iteracoes, lista_conflitos, candidato_atual)\n",
    "        #plota_tabuleiro(candidato_atual)\n",
    "    \n",
    "    return custo_melhor, solucao_melhor"
   ]
  },
  {
   "cell_type": "code",
   "execution_count": 18,
   "metadata": {},
   "outputs": [
    {
     "data": {
      "image/png": "[encoded data removed]",
      "text/plain": [
       "<Figure size 600x400 with 1 Axes>"
      ]
     },
     "metadata": {},
     "output_type": "display_data"
    },
    {
     "data": {
      "image/png": "[encoded data removed]",
      "text/plain": [
       "<Figure size 640x480 with 1 Axes>"
      ]
     },
     "metadata": {},
     "output_type": "display_data"
    },
    {
     "name": "stdout",
     "output_type": "stream",
     "text": [
      "Melhor solução: [3, 5, 2, 7, 3, 6, 8, 1] com custo: 2\n"
     ]
    }
   ],
   "source": [
    "\n",
    "vetorInicial = solucao_aleatoria()\n",
    "\n",
    "print(\"Tabuleiro recebido:\", vetorInicial, \"com custo:\", conta_ataques(vetorInicial))\n",
    "#plota_tabuleiro(vetorInicial)\n",
    "\n",
    "custo, vetor_melhor = hill_climbing_restart(vetorInicial)\n",
    "\n",
    "print(\"Melhor solução:\", vetor_melhor, \"com custo:\", custo)\n",
    "#plota_tabuleiro(vetor_melhor)"
   ]
  },
  {
   "cell_type": "markdown",
   "metadata": {},
   "source": [
    "## Algoritmo 02: SA"
   ]
  },
  {
   "cell_type": "code",
   "execution_count": 19,
   "metadata": {},
   "outputs": [],
   "source": [
    "def probabilidade_aceitacao(conflito_atual, novo_conflito, temperatura):\n",
    "    '''if novo_conflito < conflito_atual: # melhor == menor (<)\n",
    "        return 1.0\n",
    "    else:\n",
    "        return math.exp((conflito_atual - novo_conflito) / temperatura)'''\n",
    "        \n",
    "    variacao = conflito_atual - novo_conflito\n",
    "    \n",
    "    if variacao < 0 or random.uniform(0, 1) < np.exp(-variacao / temperatura):\n",
    "        return 1.0\n",
    "    else:\n",
    "        return variacao\n",
    "    "
   ]
  },
  {
   "cell_type": "code",
   "execution_count": 26,
   "metadata": {},
   "outputs": [],
   "source": [
    "# nrep: número de vizinhos gerados em cada iteração\n",
    "def simulated_annealing(tabuleiro, nrep, iteracoes):\n",
    "    decaimento_min = 0.001\n",
    "    decaimento_max = 0.01\n",
    "    #iteracoes = 2000\n",
    "    \n",
    "    tabuleiro_atual = tabuleiro.copy()\n",
    "    melhor_tabuleiro = tabuleiro_atual.copy()\n",
    "    \n",
    "    conflito_atual = conta_ataques(tabuleiro_atual)\n",
    "    melhor_conflito = conflito_atual\n",
    "    # Parâmetro: temperatura = 1000\n",
    "    temperatura = 1000\n",
    "    \n",
    "    #-----------------------------------------------------\n",
    "    lista_iteracoes = []\n",
    "    lista_melhor_conflitos = []\n",
    "    lista_conflitos = []\n",
    "    lista_aceitacao_prob = []\n",
    "    lista_temperatura = []\n",
    "    #-----------------------------------------------------\n",
    "    \n",
    "    lista_iteracoes.append(0)\n",
    "    lista_conflitos.append(conflito_atual)\n",
    "    lista_melhor_conflitos.append(melhor_conflito)\n",
    "    lista_temperatura.append(temperatura) \n",
    "    lista_aceitacao_prob.append(1) \n",
    "    \n",
    "    iteracao = 1    \n",
    "    \n",
    "    while (temperatura > 0) and (iteracao < iteracoes):\n",
    "        \n",
    "        for _ in range(nrep):\n",
    "                \n",
    "            novo_tabuleiro = solucao_aleatoria()\n",
    "            novo_conflito = conta_ataques(novo_tabuleiro)\n",
    "            \n",
    "            tabuleiro_atual = solucao_aleatoria()\n",
    "            conflito_atual = conta_ataques(tabuleiro_atual)\n",
    "            \n",
    "            tabuleiro_atual, conflito_atual = obtem_melhor_vizinho(tabuleiro_atual, novo_tabuleiro)\n",
    "            \n",
    "            variacao = novo_conflito - conflito_atual\n",
    "            if variacao < 0 or random.uniform(0, 1) < np.exp(-variacao / temperatura):\n",
    "                aceitacao_prob = np.exp(-variacao / temperatura)\n",
    "            else:\n",
    "                aceitacao_prob = 0\n",
    "                \n",
    "            if conflito_atual < melhor_conflito:\n",
    "                melhor_tabuleiro = tabuleiro_atual\n",
    "                melhor_conflito = conflito_atual\n",
    "\n",
    "            cooling_rate = random.uniform(decaimento_min, decaimento_max)\n",
    "            temperatura *= (1 - cooling_rate)\n",
    "\n",
    "            #----------------------------------------------\n",
    "\n",
    "            lista_iteracoes.append(iteracao)\n",
    "            lista_melhor_conflitos.append(melhor_conflito)\n",
    "            lista_conflitos.append(conflito_atual)\n",
    "            lista_aceitacao_prob.append(aceitacao_prob)\n",
    "            lista_temperatura.append(temperatura)\n",
    "            \n",
    "            iteracao += 1\n",
    "\n",
    "            if iteracao % 50 == 0:\n",
    "                print(f\"Iteração {iteracao}, melhor conflito: {melhor_conflito}\")\n",
    "                plot_axes_figure_sa(lista_iteracoes, lista_aceitacao_prob, lista_temperatura, melhor_tabuleiro, lista_conflitos, lista_melhor_conflitos)\n",
    "            #-----------------------------------------------\n",
    "\n",
    "    return melhor_conflito, melhor_tabuleiro"
   ]
  },
  {
   "cell_type": "code",
   "execution_count": 23,
   "metadata": {},
   "outputs": [
    {
     "name": "stdout",
     "output_type": "stream",
     "text": [
      "Tabuleiro recebido: [2, 2, 2, 2, 2, 2, 2, 2] com custo: 28\n"
     ]
    },
    {
     "data": {
      "image/png": "[encoded data removed]",
      "text/plain": [
       "<Figure size 640x480 with 1 Axes>"
      ]
     },
     "metadata": {},
     "output_type": "display_data"
    },
    {
     "ename": "KeyboardInterrupt",
     "evalue": "",
     "output_type": "error",
     "traceback": [
      "\u001b[1;31m---------------------------------------------------------------------------\u001b[0m",
      "\u001b[1;31mKeyboardInterrupt\u001b[0m                         Traceback (most recent call last)",
      "Cell \u001b[1;32mIn[23], line 8\u001b[0m\n\u001b[0;32m      6\u001b[0m nrep \u001b[38;5;241m=\u001b[39m \u001b[38;5;241m50\u001b[39m\n\u001b[0;32m      7\u001b[0m iteracoes \u001b[38;5;241m=\u001b[39m \u001b[38;5;241m1000\u001b[39m\n\u001b[1;32m----> 8\u001b[0m custo, vetor_melhor \u001b[38;5;241m=\u001b[39m \u001b[43msimulated_annealing\u001b[49m\u001b[43m(\u001b[49m\u001b[43mvetorInicial\u001b[49m\u001b[43m,\u001b[49m\u001b[43m \u001b[49m\u001b[43mnrep\u001b[49m\u001b[43m,\u001b[49m\u001b[43m \u001b[49m\u001b[43miteracoes\u001b[49m\u001b[43m)\u001b[49m\n\u001b[0;32m     10\u001b[0m \u001b[38;5;28mprint\u001b[39m(\u001b[38;5;124m\"\u001b[39m\u001b[38;5;124mMelhor solução:\u001b[39m\u001b[38;5;124m\"\u001b[39m, vetor_melhor, \u001b[38;5;124m\"\u001b[39m\u001b[38;5;124mcom custo:\u001b[39m\u001b[38;5;124m\"\u001b[39m, custo)\n\u001b[0;32m     11\u001b[0m \u001b[38;5;66;03m#plota_tabuleiro(vetor_melhor)\u001b[39;00m\n",
      "Cell \u001b[1;32mIn[20], line 35\u001b[0m, in \u001b[0;36msimulated_annealing\u001b[1;34m(tabuleiro, nrep, iteracoes)\u001b[0m\n\u001b[0;32m     31\u001b[0m \u001b[38;5;28;01mwhile\u001b[39;00m (temperatura \u001b[38;5;241m>\u001b[39m \u001b[38;5;241m0\u001b[39m) \u001b[38;5;129;01mand\u001b[39;00m (iteracao \u001b[38;5;241m<\u001b[39m iteracoes):\n\u001b[0;32m     33\u001b[0m     \u001b[38;5;28;01mfor\u001b[39;00m _ \u001b[38;5;129;01min\u001b[39;00m \u001b[38;5;28mrange\u001b[39m(nrep):\n\u001b[1;32m---> 35\u001b[0m         novo_tabuleiro \u001b[38;5;241m=\u001b[39m \u001b[43msolucao_aleatoria\u001b[49m()\n\u001b[0;32m     36\u001b[0m         novo_conflito \u001b[38;5;241m=\u001b[39m conta_ataques(novo_tabuleiro)\n\u001b[0;32m     37\u001b[0m         \u001b[38;5;66;03m#print(novo_conflito)\u001b[39;00m\n",
      "Cell \u001b[1;32mIn[20], line 35\u001b[0m, in \u001b[0;36msimulated_annealing\u001b[1;34m(tabuleiro, nrep, iteracoes)\u001b[0m\n\u001b[0;32m     31\u001b[0m \u001b[38;5;28;01mwhile\u001b[39;00m (temperatura \u001b[38;5;241m>\u001b[39m \u001b[38;5;241m0\u001b[39m) \u001b[38;5;129;01mand\u001b[39;00m (iteracao \u001b[38;5;241m<\u001b[39m iteracoes):\n\u001b[0;32m     33\u001b[0m     \u001b[38;5;28;01mfor\u001b[39;00m _ \u001b[38;5;129;01min\u001b[39;00m \u001b[38;5;28mrange\u001b[39m(nrep):\n\u001b[1;32m---> 35\u001b[0m         novo_tabuleiro \u001b[38;5;241m=\u001b[39m \u001b[43msolucao_aleatoria\u001b[49m()\n\u001b[0;32m     36\u001b[0m         novo_conflito \u001b[38;5;241m=\u001b[39m conta_ataques(novo_tabuleiro)\n\u001b[0;32m     37\u001b[0m         \u001b[38;5;66;03m#print(novo_conflito)\u001b[39;00m\n",
      "File \u001b[1;32m_pydevd_bundle/pydevd_cython.pyx:1457\u001b[0m, in \u001b[0;36m_pydevd_bundle.pydevd_cython.SafeCallWrapper.__call__\u001b[1;34m()\u001b[0m\n",
      "File \u001b[1;32m_pydevd_bundle/pydevd_cython.pyx:701\u001b[0m, in \u001b[0;36m_pydevd_bundle.pydevd_cython.PyDBFrame.trace_dispatch\u001b[1;34m()\u001b[0m\n",
      "File \u001b[1;32m_pydevd_bundle/pydevd_cython.pyx:1152\u001b[0m, in \u001b[0;36m_pydevd_bundle.pydevd_cython.PyDBFrame.trace_dispatch\u001b[1;34m()\u001b[0m\n",
      "File \u001b[1;32m_pydevd_bundle/pydevd_cython.pyx:1135\u001b[0m, in \u001b[0;36m_pydevd_bundle.pydevd_cython.PyDBFrame.trace_dispatch\u001b[1;34m()\u001b[0m\n",
      "File \u001b[1;32m_pydevd_bundle/pydevd_cython.pyx:312\u001b[0m, in \u001b[0;36m_pydevd_bundle.pydevd_cython.PyDBFrame.do_wait_suspend\u001b[1;34m()\u001b[0m\n",
      "File \u001b[1;32m~\\AppData\\Roaming\\Python\\Python311\\site-packages\\debugpy\\_vendored\\pydevd\\pydevd.py:2070\u001b[0m, in \u001b[0;36mPyDB.do_wait_suspend\u001b[1;34m(self, thread, frame, event, arg, exception_type)\u001b[0m\n\u001b[0;32m   2067\u001b[0m             from_this_thread\u001b[38;5;241m.\u001b[39mappend(frame_custom_thread_id)\n\u001b[0;32m   2069\u001b[0m     \u001b[38;5;28;01mwith\u001b[39;00m \u001b[38;5;28mself\u001b[39m\u001b[38;5;241m.\u001b[39m_threads_suspended_single_notification\u001b[38;5;241m.\u001b[39mnotify_thread_suspended(thread_id, thread, stop_reason):\n\u001b[1;32m-> 2070\u001b[0m         keep_suspended \u001b[38;5;241m=\u001b[39m \u001b[38;5;28;43mself\u001b[39;49m\u001b[38;5;241;43m.\u001b[39;49m\u001b[43m_do_wait_suspend\u001b[49m\u001b[43m(\u001b[49m\u001b[43mthread\u001b[49m\u001b[43m,\u001b[49m\u001b[43m \u001b[49m\u001b[43mframe\u001b[49m\u001b[43m,\u001b[49m\u001b[43m \u001b[49m\u001b[43mevent\u001b[49m\u001b[43m,\u001b[49m\u001b[43m \u001b[49m\u001b[43marg\u001b[49m\u001b[43m,\u001b[49m\u001b[43m \u001b[49m\u001b[43msuspend_type\u001b[49m\u001b[43m,\u001b[49m\u001b[43m \u001b[49m\u001b[43mfrom_this_thread\u001b[49m\u001b[43m,\u001b[49m\u001b[43m \u001b[49m\u001b[43mframes_tracker\u001b[49m\u001b[43m)\u001b[49m\n\u001b[0;32m   2072\u001b[0m frames_list \u001b[38;5;241m=\u001b[39m \u001b[38;5;28;01mNone\u001b[39;00m\n\u001b[0;32m   2074\u001b[0m \u001b[38;5;28;01mif\u001b[39;00m keep_suspended:\n\u001b[0;32m   2075\u001b[0m     \u001b[38;5;66;03m# This means that we should pause again after a set next statement.\u001b[39;00m\n",
      "File \u001b[1;32m~\\AppData\\Roaming\\Python\\Python311\\site-packages\\debugpy\\_vendored\\pydevd\\pydevd.py:2106\u001b[0m, in \u001b[0;36mPyDB._do_wait_suspend\u001b[1;34m(self, thread, frame, event, arg, suspend_type, from_this_thread, frames_tracker)\u001b[0m\n\u001b[0;32m   2103\u001b[0m         \u001b[38;5;28mself\u001b[39m\u001b[38;5;241m.\u001b[39m_call_input_hook()\n\u001b[0;32m   2105\u001b[0m     \u001b[38;5;28mself\u001b[39m\u001b[38;5;241m.\u001b[39mprocess_internal_commands()\n\u001b[1;32m-> 2106\u001b[0m     time\u001b[38;5;241m.\u001b[39msleep(\u001b[38;5;241m0.01\u001b[39m)\n\u001b[0;32m   2108\u001b[0m \u001b[38;5;28mself\u001b[39m\u001b[38;5;241m.\u001b[39mcancel_async_evaluation(get_current_thread_id(thread), \u001b[38;5;28mstr\u001b[39m(\u001b[38;5;28mid\u001b[39m(frame)))\n\u001b[0;32m   2110\u001b[0m \u001b[38;5;66;03m# process any stepping instructions\u001b[39;00m\n",
      "\u001b[1;31mKeyboardInterrupt\u001b[0m: "
     ]
    }
   ],
   "source": [
    "vetorInicial = [2,2,2,2,2,2,2,2]\n",
    "\n",
    "print(\"Tabuleiro recebido:\", vetorInicial, \"com custo:\", conta_ataques(vetorInicial))\n",
    "plota_tabuleiro(vetorInicial)\n",
    "\n",
    "nrep = 50\n",
    "iteracoes = 1000\n",
    "custo, vetor_melhor = simulated_annealing(vetorInicial, nrep, iteracoes)\n",
    "\n",
    "print(\"Melhor solução:\", vetor_melhor, \"com custo:\", custo)\n",
    "#plota_tabuleiro(vetor_melhor)"
   ]
  }
 ],
 "metadata": {
  "kernelspec": {
   "display_name": "Python 3",
   "language": "python",
   "name": "python3"
  },
  "language_info": {
   "codemirror_mode": {
    "name": "ipython",
    "version": 3
   },
   "file_extension": ".py",
   "mimetype": "text/x-python",
   "name": "python",
   "nbconvert_exporter": "python",
   "pygments_lexer": "ipython3",
   "version": "3.11.9"
  }
 },
 "nbformat": 4,
 "nbformat_minor": 2
}
