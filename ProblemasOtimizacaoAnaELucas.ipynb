{
 "cells": [
  {
   "cell_type": "markdown",
   "metadata": {},
   "source": [
    "### Nome dos integrantes: Ana Gabriela Gomes de Almeida Ferreira e Lucas Cunha de Souza\n",
    "### Disciplina: Inteligência Artificial\n",
    "### Professor: Sérgio Nery Simões\n",
    "\n",
    "# Solução de Problemas de Otimização\n",
    "\n",
    "Este documento tem como objetivo apresentar, discutir e comparar o desempenho de algoritmos para o Problema das 8 rainhas (8-queens Problem). Os algoritmos que serão comparados são:\n",
    "\n",
    "- [HC-R] – Hill-Climbing with Restart\n",
    "- [SA] – Simulated Annealing.\n",
    "- [GA] – Genetic Algorithm."
   ]
  },
  {
   "cell_type": "markdown",
   "metadata": {},
   "source": [
    "Devemos importar as bibliotecas utilizadas para as funções auxiliares."
   ]
  },
  {
   "cell_type": "code",
   "execution_count": 92,
   "metadata": {},
   "outputs": [],
   "source": [
    "import random\n",
    "import math\n",
    "import numpy as np\n",
    "\n",
    "import matplotlib.pyplot as plt\n",
    "from IPython.display import clear_output"
   ]
  },
  {
   "cell_type": "markdown",
   "metadata": {},
   "source": [
    "Após importarmos as bibliotecas, vamos começar a apresentar as funções auxiliares genéricas aos algoritmos."
   ]
  },
  {
   "cell_type": "code",
   "execution_count": 93,
   "metadata": {},
   "outputs": [],
   "source": [
    "# Cria uma solucao inicial com as rainhas em um ordem aleatoria\n",
    "def solucao_aleatoria():\n",
    "    return random.sample(range(1,9), 8)"
   ]
  },
  {
   "cell_type": "code",
   "execution_count": 94,
   "metadata": {},
   "outputs": [],
   "source": [
    "# Função que recebe um Vetor-Tabuleiro e retorna o \n",
    "# número de pares de rainhas se atacando mutuamente nas linhas.\n",
    "def __conta_ataques_linhas(VT):\n",
    "\n",
    "    ataques = 0\n",
    "    N = len(VT)\n",
    "    for col1 in range(N):\n",
    "        lin1 = VT[col1]\n",
    "        for col2 in range(col1+1, N):\n",
    "            lin2 = VT[col2]\n",
    "            if lin1==lin2:\n",
    "                ataques +=1\n",
    "\n",
    "    return ataques"
   ]
  },
  {
   "cell_type": "code",
   "execution_count": 95,
   "metadata": {},
   "outputs": [],
   "source": [
    "# Função que recebe um Vetor-Tabuleiro e retorna o número de pares \n",
    "# de rainhas se atacando mutuamente nas diagonais.\n",
    "def __conta_ataques_diagonais(VT):\n",
    "    \n",
    "    ataques = 0\n",
    "    N = len(VT)\n",
    "\n",
    "    for col1 in range(N):\n",
    "        lin1 = VT[col1]\n",
    "        for col2 in range(col1+1, N):\n",
    "            lin2 = VT[col2]\n",
    "\n",
    "            # diferenças entre as linhas e colunas\n",
    "            d1 = lin1-col1\n",
    "            d2 = lin2-col2\n",
    "\n",
    "            # somas das linhas e colunas\n",
    "            s1 = lin1+col1\n",
    "            s2 = lin2+col2\n",
    "\n",
    "            # condições para ataques nas diagonais\n",
    "            if d1==d2 or s1==s2:\n",
    "                ataques +=1\n",
    "\n",
    "    return ataques"
   ]
  },
  {
   "cell_type": "code",
   "execution_count": 96,
   "metadata": {},
   "outputs": [],
   "source": [
    "# Função que recebe um Vetor-Tabuleiro e retorna o número de \n",
    "# pares de rainhas se atacando mutuamente nas linhas e diagonais.\n",
    "\n",
    "# função-objetivo o número de pares de rainhas se atacando\n",
    "def conta_ataques(VT):\n",
    "    ataques  = __conta_ataques_linhas(VT)\n",
    "    ataques += __conta_ataques_diagonais(VT)\n",
    "\n",
    "    return ataques"
   ]
  },
  {
   "cell_type": "code",
   "execution_count": 97,
   "metadata": {},
   "outputs": [],
   "source": [
    "# Gera todos os vizinhos possíveis, variando uma rainha de cada vez.\n",
    "def gera_vizinhos(VT):\n",
    "\n",
    "    N = len(VT)\n",
    "    for col in range(N):\n",
    "        for lin in range(N):\n",
    "            # se nao existe rainha naquela linha,\n",
    "            # entao gera estado vizinho.\n",
    "            linha = lin+1\n",
    "            if linha != VT[col]:\n",
    "                vizinho   = VT.copy()\n",
    "                vizinho[col] = linha\n",
    "\n",
    "                yield vizinho"
   ]
  },
  {
   "cell_type": "code",
   "execution_count": 98,
   "metadata": {},
   "outputs": [],
   "source": [
    "# Seleciona melhor vizinho\n",
    "def obtem_melhor_vizinho(tabuleiro, solucao_inicial):\n",
    "    #solucao aleatoria que foi criada\n",
    "    melhor_custo = conta_ataques(solucao_inicial) \n",
    "    melhor_vizinho = solucao_inicial\n",
    "\n",
    "    for vizinho in gera_vizinhos(solucao_inicial):\n",
    "        custo_atual = conta_ataques(vizinho)\n",
    "        if custo_atual < melhor_custo:\n",
    "            melhor_custo = custo_atual\n",
    "            melhor_vizinho = vizinho\n",
    "\n",
    "    return melhor_vizinho, melhor_custo"
   ]
  },
  {
   "cell_type": "markdown",
   "metadata": {},
   "source": [
    "Após criarmos as funções auxiliares, vamos começar a apresentar as funções de plotagem utilizadas."
   ]
  },
  {
   "cell_type": "markdown",
   "metadata": {},
   "source": [
    "- Plotagem para o algoritmo SA:"
   ]
  },
  {
   "cell_type": "code",
   "execution_count": 99,
   "metadata": {},
   "outputs": [],
   "source": [
    "# Plota o gráfico de probabilidade aceitação\n",
    "\n",
    "def plot_acceptance_prob(iteration_list, accept_p_list, ax):\n",
    "\n",
    "    x = iteration_list\n",
    "    y = accept_p_list\n",
    "\n",
    "    # Personalização do gráfico\n",
    "    ax.set_xlabel('Iterações')\n",
    "    ax.set_ylabel('Probabilidade')\n",
    "    ax.set_title('Probabilidade de Aceitação')\n",
    "\n",
    "    ax.set_ylim([0, 1.05])\n",
    "\n",
    "    # Criar uma nova lista de cores com base nos valores de y\n",
    "    xc, yc, colors = zip(*[(xi, yi, 'b') if yi==1.0 else (xi, yi, 'r') \\\n",
    "                           for xi, yi in enumerate(y)])\n",
    "\n",
    "    ax.scatter(xc, yc, c=colors, s=2)"
   ]
  },
  {
   "cell_type": "code",
   "execution_count": 100,
   "metadata": {},
   "outputs": [],
   "source": [
    "# Plota o gráfico de temperatura\n",
    "\n",
    "def plot_temperature(iteration_list, temperat_list, ax):\n",
    "\n",
    "    x = iteration_list\n",
    "    y = temperat_list\n",
    "\n",
    "    # Personalização do gráfico\n",
    "    ax.set_xlabel('Iterações')\n",
    "    ax.set_ylabel('Temperatura')\n",
    "    ax.set_title('Decaimento da Temperatura')\n",
    "\n",
    "    ax.set_ylim([0, 1000])\n",
    "\n",
    "    ax.plot(x,y)"
   ]
  },
  {
   "cell_type": "code",
   "execution_count": 101,
   "metadata": {},
   "outputs": [],
   "source": [
    "# Atualiza os gráficos\n",
    "\n",
    "def plot_axes_figure_sa(iteration_list, accept_p_list, temperat_list):\n",
    "\n",
    "    x = iteration_list\n",
    "    y3 = accept_p_list\n",
    "    y4 = temperat_list\n",
    "\n",
    "    clear_output(wait=True)\n",
    "\n",
    "    fig, ((ax3, ax4)) = plt.subplots(2, 1, figsize=(12,8))\n",
    "\n",
    "    plot_acceptance_prob(x, y3, ax3)\n",
    "    plot_temperature    (x, y4, ax4)\n",
    "\n",
    "    # Ajusta o espaçamento entre os subgráficos\n",
    "    fig.tight_layout()\n",
    "\n",
    "    plt.pause(0.001)"
   ]
  },
  {
   "cell_type": "markdown",
   "metadata": {},
   "source": [
    "- Plotagem para o algoritmo HC:"
   ]
  },
  {
   "cell_type": "code",
   "execution_count": 102,
   "metadata": {},
   "outputs": [],
   "source": [
    "# Atualiza os gráficos de custos\n",
    "\n",
    "def plot_custos(iteration_list, lista_conflitos, lista_melhor_conflitos):\n",
    "    fig, ax = plt.subplots()\n",
    "    \n",
    "    x = iteration_list\n",
    "    y1 = lista_conflitos\n",
    "    y2 = lista_melhor_conflitos\n",
    "    \n",
    "    ax.plot(x,y1, label='Atual')\n",
    "    ax.plot(x,y2, label='Melhor')\n",
    "    ax.legend()\n",
    "\n",
    "    # Adicionar título e labels aos eixos\n",
    "    ax.set_xlabel('Iterações')\n",
    "    ax.set_ylabel('Qnt de Ataques (Custos)')\n",
    "    ax.set_title('Gráfico de Conflitos por Iteração')\n",
    "\n",
    "    ax.set_xlim([0, len(x)-1])\n",
    "    \n",
    "    plt.show()\n",
    "    \n",
    "    '''\n",
    "    # Personalização do gráfico\n",
    "    color = 'tab:red'\n",
    "    ax.set_xlabel('Iterações')\n",
    "    ax.set_ylabel('Qnt de Ataques (Custos)')\n",
    "    ax.plot(x,y1, label='Atual', color=color)\n",
    "    ax.tick_params(axis='y', labelcolor=color)\n",
    "    \n",
    "    ax.set_title('Quantidade de ataques possíveis por iteração')\n",
    "    \n",
    "    ax1 = ax.tick_params(axis='y', labelcolor=color)\n",
    "    \n",
    "    color = 'tab:blue'\n",
    "    ax1.set_ylabel('Qnt de Ataques (Melhores Custos)')\n",
    "    ax1.plot(x,y2, label='Melhor', color=color)\n",
    "    ax1.tick_params(axis='y', labelcolor=color)\n",
    "    \n",
    "    ax.legend()\n",
    "    '''"
   ]
  },
  {
   "cell_type": "code",
   "execution_count": 103,
   "metadata": {},
   "outputs": [],
   "source": [
    "# Plota o tabuleiro\n",
    "\n",
    "def plota_tabuleiro(positions):\n",
    "    fig, ax = plt.subplots()\n",
    "    \n",
    "    ax.set_xlim(0, 8)\n",
    "    ax.set_ylim(0, 8)\n",
    "    ax.set_xticks(range(9))\n",
    "    ax.set_yticks(range(9))\n",
    "    ax.grid(True)\n",
    "    \n",
    "    for i in range(8):\n",
    "        for j in range(8):\n",
    "            if (i + j) % 2 == 0:\n",
    "                ax.add_patch(plt.Rectangle((i, j), 1, 1, fill=True, color='lightgrey'))\n",
    "            else:\n",
    "                ax.add_patch(plt.Rectangle((i, j), 1, 1, fill=True, color='white'))\n",
    "    \n",
    "    for col, row in enumerate(positions):\n",
    "        ax.text(col + 0.5, row - 0.5, '♛', fontsize=30, ha='center', va='center', color='black')\n",
    "    \n",
    "    ax.invert_yaxis()\n",
    "    ax.xaxis.tick_top()\n",
    "    \n",
    "    plt.show()"
   ]
  },
  {
   "cell_type": "code",
   "execution_count": 104,
   "metadata": {},
   "outputs": [],
   "source": [
    "# Atualiza os gráficos\n",
    "\n",
    "def plot_axes_figure_hc(iteration_list, lista_melhor_conflitos, lista_conflitos, tabuleiro):\n",
    "    \n",
    "    x = iteration_list    \n",
    "    y1 = lista_conflitos\n",
    "    y2 = lista_melhor_conflitos\n",
    "    \n",
    "    clear_output(wait=True)\n",
    "\n",
    "    fig, (ax1) = plt.subplots(1, 1, figsize=(9,6))\n",
    "    plot_custos(x, y1, y2, ax1)\n",
    "    plota_tabuleiro(tabuleiro)\n",
    "    \n",
    "    # Ajusta o espaçamento entre os subgráficos\n",
    "    fig.tight_layout()\n",
    "    \n",
    "    plt.pause(0.001)\n",
    "    \n",
    "    plt.show()\n",
    "    \n",
    "    \n",
    "    #plot_custos(x, y1, y2, ax1)\n",
    "    '''\n",
    "    fig, ax1 = plt.subplots()\n",
    "    \n",
    "    # Personalização do gráfico\n",
    "    color = 'tab:red'\n",
    "    ax1.set_xlabel('Iterações')\n",
    "    ax1.set_ylabel('Qnt de Ataques (Custos)', color=color)\n",
    "    ax1.plot(x,y1, label='Atual', color=color)\n",
    "    ax1.tick_params(axis='y', labelcolor=color)\n",
    "    \n",
    "    ax1.set_title('Quantidade de ataques possíveis por iteração')\n",
    "    ax1.legend()\n",
    "    \n",
    "    ax2 = ax1.twinx()\n",
    "    \n",
    "    color = 'tab:blue'\n",
    "    ax2.set_ylabel('Qnt de Ataques (Melhores Custos)')\n",
    "    ax2.plot(x,y2, label='Melhor', color=color)\n",
    "    ax2.tick_params(axis='y', labelcolor=color)\n",
    "    \n",
    "    ax2.legend()\n",
    "    '''\n",
    "    # Ajusta o espaçamento entre os subgráficos\n",
    "    fig.tight_layout()\n",
    "    \n",
    "    #plt.pause(0.001)\n",
    "    \n",
    "    plt.show()"
   ]
  },
  {
   "cell_type": "markdown",
   "metadata": {},
   "source": [
    "## Algoritmo 01: Hill Climb Restart"
   ]
  },
  {
   "cell_type": "code",
   "execution_count": 105,
   "metadata": {},
   "outputs": [],
   "source": [
    "# HILL-CLIMBING COM RESTART\n",
    "def hill_climbing_restart(tabuleiro):\n",
    "    \n",
    "    #print(\"Tabuleiro recebido:\", tabuleiro)\n",
    "    lista_tabuleiro = []\n",
    "    lista_iteracoes = []\n",
    "    lista_melhor_conflitos = []\n",
    "    lista_conflitos = []\n",
    "    \n",
    "    # Parâmetro: 30 restarts\n",
    "    for iteracao in range(30):\n",
    "        \n",
    "        #print(\"Iteração\", iteracao+1)\n",
    "        \n",
    "        # solucao inicial\n",
    "        solucao_atual = solucao_aleatoria()\n",
    "        \n",
    "        #print(\"Solução gerada aleatoriamente:\", solucao_atual)\n",
    "        \n",
    "        # melhor solucao ate o momento\n",
    "        solucao_melhor, custo_melhor = obtem_melhor_vizinho(tabuleiro, solucao_atual)\n",
    "        \n",
    "        #print(\"Melhor solução até o momento:\", solucao_melhor, \"com custo\", custo_melhor)\n",
    "        \n",
    "        while True:\n",
    "            # tenta obter um candidato melhor\n",
    "            candidato_atual, custo_atual = obtem_melhor_vizinho(tabuleiro, solucao_melhor)\n",
    "            # print(custo_melhor, custo_atual)\n",
    "            if custo_atual < custo_melhor:\n",
    "                custo_melhor   = custo_atual\n",
    "                solucao_melhor = candidato_atual\n",
    "            else:\n",
    "                break   # custo nao melhorou, entao sai do while\n",
    "        \n",
    "        lista_tabuleiro += [candidato_atual]\n",
    "        lista_iteracoes += [iteracao]\n",
    "        lista_melhor_conflitos += [custo_melhor]\n",
    "        lista_conflitos  += [custo_atual]\n",
    "        \n",
    "        print(f\"Iteração {iteracao}, melhor conflito: {custo_melhor}\")\n",
    "        plot_axes_figure_hc(lista_iteracoes, lista_melhor_conflitos, lista_conflitos, candidato_atual)\n",
    "        #plota_tabuleiro(candidato_atual)\n",
    "    \n",
    "    return custo_melhor, solucao_melhor"
   ]
  },
  {
   "cell_type": "code",
   "execution_count": 106,
   "metadata": {},
   "outputs": [
    {
     "ename": "TypeError",
     "evalue": "plot_custos() takes 3 positional arguments but 4 were given",
     "output_type": "error",
     "traceback": [
      "\u001b[1;31m---------------------------------------------------------------------------\u001b[0m",
      "\u001b[1;31mTypeError\u001b[0m                                 Traceback (most recent call last)",
      "Cell \u001b[1;32mIn[106], line 6\u001b[0m\n\u001b[0;32m      3\u001b[0m \u001b[38;5;28mprint\u001b[39m(\u001b[38;5;124m\"\u001b[39m\u001b[38;5;124mTabuleiro recebido:\u001b[39m\u001b[38;5;124m\"\u001b[39m, vetorInicial, \u001b[38;5;124m\"\u001b[39m\u001b[38;5;124mcom custo:\u001b[39m\u001b[38;5;124m\"\u001b[39m, conta_ataques(vetorInicial))\n\u001b[0;32m      4\u001b[0m plota_tabuleiro(vetorInicial)\n\u001b[1;32m----> 6\u001b[0m custo, vetor_melhor \u001b[38;5;241m=\u001b[39m \u001b[43mhill_climbing_restart\u001b[49m\u001b[43m(\u001b[49m\u001b[43mvetorInicial\u001b[49m\u001b[43m)\u001b[49m\n\u001b[0;32m      8\u001b[0m \u001b[38;5;28mprint\u001b[39m(\u001b[38;5;124m\"\u001b[39m\u001b[38;5;124mMelhor solução:\u001b[39m\u001b[38;5;124m\"\u001b[39m, vetor_melhor, \u001b[38;5;124m\"\u001b[39m\u001b[38;5;124mcom custo:\u001b[39m\u001b[38;5;124m\"\u001b[39m, custo)\n\u001b[0;32m      9\u001b[0m \u001b[38;5;66;03m#plota_tabuleiro(vetor_melhor)\u001b[39;00m\n",
      "Cell \u001b[1;32mIn[105], line 41\u001b[0m, in \u001b[0;36mhill_climbing_restart\u001b[1;34m(tabuleiro)\u001b[0m\n\u001b[0;32m     38\u001b[0m     lista_conflitos  \u001b[38;5;241m+\u001b[39m\u001b[38;5;241m=\u001b[39m [custo_atual]\n\u001b[0;32m     40\u001b[0m     \u001b[38;5;28mprint\u001b[39m(\u001b[38;5;124mf\u001b[39m\u001b[38;5;124m\"\u001b[39m\u001b[38;5;124mIteração \u001b[39m\u001b[38;5;132;01m{\u001b[39;00miteracao\u001b[38;5;132;01m}\u001b[39;00m\u001b[38;5;124m, melhor conflito: \u001b[39m\u001b[38;5;132;01m{\u001b[39;00mcusto_melhor\u001b[38;5;132;01m}\u001b[39;00m\u001b[38;5;124m\"\u001b[39m)\n\u001b[1;32m---> 41\u001b[0m     \u001b[43mplot_axes_figure_hc\u001b[49m\u001b[43m(\u001b[49m\u001b[43mlista_iteracoes\u001b[49m\u001b[43m,\u001b[49m\u001b[43m \u001b[49m\u001b[43mlista_melhor_conflitos\u001b[49m\u001b[43m,\u001b[49m\u001b[43m \u001b[49m\u001b[43mlista_conflitos\u001b[49m\u001b[43m,\u001b[49m\u001b[43m \u001b[49m\u001b[43mcandidato_atual\u001b[49m\u001b[43m)\u001b[49m\n\u001b[0;32m     42\u001b[0m     \u001b[38;5;66;03m#plota_tabuleiro(candidato_atual)\u001b[39;00m\n\u001b[0;32m     44\u001b[0m \u001b[38;5;28;01mreturn\u001b[39;00m custo_melhor, solucao_melhor\n",
      "Cell \u001b[1;32mIn[104], line 12\u001b[0m, in \u001b[0;36mplot_axes_figure_hc\u001b[1;34m(iteration_list, lista_melhor_conflitos, lista_conflitos, tabuleiro)\u001b[0m\n\u001b[0;32m      9\u001b[0m clear_output(wait\u001b[38;5;241m=\u001b[39m\u001b[38;5;28;01mTrue\u001b[39;00m)\n\u001b[0;32m     11\u001b[0m fig, ((ax1, ax2)) \u001b[38;5;241m=\u001b[39m plt\u001b[38;5;241m.\u001b[39msubplots(\u001b[38;5;241m1\u001b[39m, \u001b[38;5;241m2\u001b[39m, figsize\u001b[38;5;241m=\u001b[39m(\u001b[38;5;241m9\u001b[39m,\u001b[38;5;241m6\u001b[39m))\n\u001b[1;32m---> 12\u001b[0m \u001b[43mplot_custos\u001b[49m\u001b[43m(\u001b[49m\u001b[43mx\u001b[49m\u001b[43m,\u001b[49m\u001b[43m \u001b[49m\u001b[43my1\u001b[49m\u001b[43m,\u001b[49m\u001b[43m \u001b[49m\u001b[43my2\u001b[49m\u001b[43m,\u001b[49m\u001b[43m \u001b[49m\u001b[43max1\u001b[49m\u001b[43m)\u001b[49m\n\u001b[0;32m     13\u001b[0m plota_tabuleiro(tabuleiro)\n\u001b[0;32m     15\u001b[0m \u001b[38;5;66;03m# Ajusta o espaçamento entre os subgráficos\u001b[39;00m\n",
      "\u001b[1;31mTypeError\u001b[0m: plot_custos() takes 3 positional arguments but 4 were given"
     ]
    },
    {
     "data": {
      "image/png": "[encoded data removed]",
      "text/plain": [
       "<Figure size 900x600 with 2 Axes>"
      ]
     },
     "metadata": {},
     "output_type": "display_data"
    }
   ],
   "source": [
    "\n",
    "vetorInicial = solucao_aleatoria()\n",
    "\n",
    "print(\"Tabuleiro recebido:\", vetorInicial, \"com custo:\", conta_ataques(vetorInicial))\n",
    "plota_tabuleiro(vetorInicial)\n",
    "\n",
    "custo, vetor_melhor = hill_climbing_restart(vetorInicial)\n",
    "\n",
    "print(\"Melhor solução:\", vetor_melhor, \"com custo:\", custo)\n",
    "#plota_tabuleiro(vetor_melhor)"
   ]
  }
 ],
 "metadata": {
  "kernelspec": {
   "display_name": "Python 3",
   "language": "python",
   "name": "python3"
  },
  "language_info": {
   "codemirror_mode": {
    "name": "ipython",
    "version": 3
   },
   "file_extension": ".py",
   "mimetype": "text/x-python",
   "name": "python",
   "nbconvert_exporter": "python",
   "pygments_lexer": "ipython3",
   "version": "3.11.5"
  }
 },
 "nbformat": 4,
 "nbformat_minor": 2
}
